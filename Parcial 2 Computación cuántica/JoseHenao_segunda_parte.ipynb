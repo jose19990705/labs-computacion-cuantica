{
  "nbformat": 4,
  "nbformat_minor": 0,
  "metadata": {
    "colab": {
      "provenance": [],
      "gpuType": "T4"
    },
    "kernelspec": {
      "name": "python3",
      "display_name": "Python 3"
    },
    "language_info": {
      "name": "python"
    },
    "accelerator": "GPU"
  },
  "cells": [
    {
      "cell_type": "code",
      "execution_count": null,
      "metadata": {
        "colab": {
          "base_uri": "https://localhost:8080/"
        },
        "id": "-I52AnfWILWe",
        "outputId": "ef95690a-c88b-4654-98c8-58636982689c"
      },
      "outputs": [
        {
          "output_type": "stream",
          "name": "stdout",
          "text": [
            "Requirement already satisfied: pennylane in /usr/local/lib/python3.11/dist-packages (0.41.1)\n",
            "Requirement already satisfied: numpy in /usr/local/lib/python3.11/dist-packages (from pennylane) (2.0.2)\n",
            "Requirement already satisfied: scipy in /usr/local/lib/python3.11/dist-packages (from pennylane) (1.15.3)\n",
            "Requirement already satisfied: networkx in /usr/local/lib/python3.11/dist-packages (from pennylane) (3.5)\n",
            "Requirement already satisfied: rustworkx>=0.14.0 in /usr/local/lib/python3.11/dist-packages (from pennylane) (0.16.0)\n",
            "Requirement already satisfied: autograd in /usr/local/lib/python3.11/dist-packages (from pennylane) (1.8.0)\n",
            "Requirement already satisfied: tomlkit in /usr/local/lib/python3.11/dist-packages (from pennylane) (0.13.3)\n",
            "Requirement already satisfied: appdirs in /usr/local/lib/python3.11/dist-packages (from pennylane) (1.4.4)\n",
            "Requirement already satisfied: autoray>=0.6.11 in /usr/local/lib/python3.11/dist-packages (from pennylane) (0.7.2)\n",
            "Requirement already satisfied: cachetools in /usr/local/lib/python3.11/dist-packages (from pennylane) (5.5.2)\n",
            "Requirement already satisfied: pennylane-lightning>=0.41 in /usr/local/lib/python3.11/dist-packages (from pennylane) (0.41.1)\n",
            "Requirement already satisfied: requests in /usr/local/lib/python3.11/dist-packages (from pennylane) (2.32.3)\n",
            "Requirement already satisfied: typing-extensions in /usr/local/lib/python3.11/dist-packages (from pennylane) (4.14.1)\n",
            "Requirement already satisfied: packaging in /usr/local/lib/python3.11/dist-packages (from pennylane) (24.2)\n",
            "Requirement already satisfied: diastatic-malt in /usr/local/lib/python3.11/dist-packages (from pennylane) (2.15.2)\n",
            "Requirement already satisfied: scipy-openblas32>=0.3.26 in /usr/local/lib/python3.11/dist-packages (from pennylane-lightning>=0.41->pennylane) (0.3.30.0.1)\n",
            "Requirement already satisfied: astunparse in /usr/local/lib/python3.11/dist-packages (from diastatic-malt->pennylane) (1.6.3)\n",
            "Requirement already satisfied: gast in /usr/local/lib/python3.11/dist-packages (from diastatic-malt->pennylane) (0.6.0)\n",
            "Requirement already satisfied: termcolor in /usr/local/lib/python3.11/dist-packages (from diastatic-malt->pennylane) (3.1.0)\n",
            "Requirement already satisfied: charset-normalizer<4,>=2 in /usr/local/lib/python3.11/dist-packages (from requests->pennylane) (3.4.2)\n",
            "Requirement already satisfied: idna<4,>=2.5 in /usr/local/lib/python3.11/dist-packages (from requests->pennylane) (3.10)\n",
            "Requirement already satisfied: urllib3<3,>=1.21.1 in /usr/local/lib/python3.11/dist-packages (from requests->pennylane) (2.4.0)\n",
            "Requirement already satisfied: certifi>=2017.4.17 in /usr/local/lib/python3.11/dist-packages (from requests->pennylane) (2025.7.9)\n",
            "Requirement already satisfied: wheel<1.0,>=0.23.0 in /usr/local/lib/python3.11/dist-packages (from astunparse->diastatic-malt->pennylane) (0.45.1)\n",
            "Requirement already satisfied: six<2.0,>=1.6.1 in /usr/local/lib/python3.11/dist-packages (from astunparse->diastatic-malt->pennylane) (1.17.0)\n"
          ]
        }
      ],
      "source": [
        "!pip install pennylane"
      ]
    },
    {
      "cell_type": "code",
      "source": [
        "import pennylane as qml\n",
        "from pennylane import numpy as np\n",
        "from pennylane.optimize import GradientDescentOptimizer\n",
        "\n",
        "from sklearn.model_selection import train_test_split\n",
        "import pandas as pd\n",
        "\n",
        "from sklearn.metrics import accuracy_score\n",
        "from sklearn.metrics import f1_score\n",
        "from sklearn.metrics import precision_score\n",
        "from sklearn.metrics import recall_score\n",
        "\n",
        "import math\n"
      ],
      "metadata": {
        "id": "DEWFDl2lI19i"
      },
      "execution_count": null,
      "outputs": []
    },
    {
      "cell_type": "markdown",
      "source": [
        "Feature Map."
      ],
      "metadata": {
        "id": "0R7Skd9tIpWh"
      }
    },
    {
      "cell_type": "code",
      "source": [
        "num_qubits = 4\n",
        "num_layers = 2\n",
        "\n",
        "dev = qml.device(\"default.qubit\", wires=num_qubits)\n",
        "# quantum circuit functions\n",
        "def statepreparation(x):\n",
        "    qml.BasisEmbedding(x, wires=range(0, num_qubits))"
      ],
      "metadata": {
        "id": "cWgJb57-Iinb"
      },
      "execution_count": null,
      "outputs": []
    },
    {
      "cell_type": "markdown",
      "source": [
        "Ansatz modificado a StronglyEntanglingLayers"
      ],
      "metadata": {
        "id": "Kvw2JStZJ6gq"
      }
    },
    {
      "cell_type": "code",
      "source": [
        "@qml.qnode(dev, interface=\"autograd\")\n",
        "def circuit(weights, x):\n",
        "    statepreparation(x)\n",
        "    qml.StronglyEntanglingLayers(weights=weights, wires=range(4), ranges=[2, 3], imprimitive=qml.ops.CZ)\n",
        "    return qml.expval(qml.PauliZ(0))"
      ],
      "metadata": {
        "id": "bnNs_oxgJvBl"
      },
      "execution_count": null,
      "outputs": []
    },
    {
      "cell_type": "markdown",
      "source": [
        "Salida del circuito cuántico sumado al sesgo."
      ],
      "metadata": {
        "id": "yKjSczf4KRFp"
      }
    },
    {
      "cell_type": "code",
      "source": [
        "def variational_classifier(weights, bias, x):\n",
        "    return circuit(weights, x) + bias"
      ],
      "metadata": {
        "id": "Qv8dTlzcKxwS"
      },
      "execution_count": null,
      "outputs": []
    },
    {
      "cell_type": "markdown",
      "source": [
        "Definición de la función de pérdida."
      ],
      "metadata": {
        "id": "lXEmnzc9KzQp"
      }
    },
    {
      "cell_type": "code",
      "source": [
        "\n",
        "def square_loss(labels, predictions):\n",
        "    loss = 0\n",
        "    for l, p in zip(labels, predictions):\n",
        "        loss = loss + (l - p) ** 2\n",
        "\n",
        "    loss = loss / len(labels)\n",
        "    return loss"
      ],
      "metadata": {
        "id": "ClxjWnYyK3Fk"
      },
      "execution_count": null,
      "outputs": []
    },
    {
      "cell_type": "markdown",
      "source": [
        "Definición de la función de evaluación de desempeño."
      ],
      "metadata": {
        "id": "aGvE5hPoLMeT"
      }
    },
    {
      "cell_type": "code",
      "source": [
        "def accuracy(labels, predictions):\n",
        "\n",
        "    loss = 0\n",
        "    for l, p in zip(labels, predictions):\n",
        "        if abs(l - p) < 1e-5:\n",
        "            loss = loss + 1\n",
        "    loss = loss / len(labels)\n",
        "\n",
        "    return loss"
      ],
      "metadata": {
        "id": "WJjUQMbeLQ3D"
      },
      "execution_count": null,
      "outputs": []
    },
    {
      "cell_type": "markdown",
      "source": [
        "Definición de la función de evaluación de accuracy."
      ],
      "metadata": {
        "id": "s9kPgyS4LVOo"
      }
    },
    {
      "cell_type": "code",
      "source": [
        "def accuracy(labels, predictions):\n",
        "\n",
        "    loss = 0\n",
        "    for l, p in zip(labels, predictions):\n",
        "        if abs(l - p) < 1e-5:\n",
        "            loss = loss + 1\n",
        "    loss = loss / len(labels)\n",
        "\n",
        "    return loss"
      ],
      "metadata": {
        "id": "DWyHtkzRLUti"
      },
      "execution_count": null,
      "outputs": []
    },
    {
      "cell_type": "markdown",
      "source": [
        "Definición de la función de costo."
      ],
      "metadata": {
        "id": "pkHxUkYHLjCz"
      }
    },
    {
      "cell_type": "code",
      "source": [
        "def cost(weights, bias, X, Y):\n",
        "    predictions = [variational_classifier(weights, bias, x) for x in X]\n",
        "    return square_loss(Y, predictions)"
      ],
      "metadata": {
        "id": "M1LloZMtLl5C"
      },
      "execution_count": null,
      "outputs": []
    },
    {
      "cell_type": "code",
      "source": [
        "import zipfile\n",
        "\n",
        "with zipfile.ZipFile('titanic.zip', 'r') as zip_ref:\n",
        "    zip_ref.extractall('titanic_data')\n",
        "\n",
        "# Verifica los archivos extraídos\n",
        "import os\n",
        "\n",
        "print(\"Archivos extraídos:\")\n",
        "print(os.listdir('titanic_data'))\n"
      ],
      "metadata": {
        "id": "OUHv4g9bMLfS",
        "colab": {
          "base_uri": "https://localhost:8080/"
        },
        "outputId": "b826afec-0077-4bc5-abf3-f61ee4cedde5"
      },
      "execution_count": null,
      "outputs": [
        {
          "output_type": "stream",
          "name": "stdout",
          "text": [
            "Archivos extraídos:\n",
            "['train.csv', 'gender_submission.csv', 'test.csv']\n"
          ]
        }
      ]
    },
    {
      "cell_type": "markdown",
      "source": [
        "Preprocesamiento de los datos."
      ],
      "metadata": {
        "id": "O81wX3d1N8gM"
      }
    },
    {
      "cell_type": "code",
      "source": [
        "# preparaing data\n",
        "df_train = pd.read_csv('/content/titanic_data/train.csv')\n",
        "\n",
        "df_train['Pclass'] = df_train['Pclass'].astype(str)\n",
        "\n",
        "df_train = pd.concat([df_train, pd.get_dummies(df_train[['Pclass', 'Sex', 'Embarked']])], axis=1)\n",
        "\n",
        "# I will fill missings with the median\n",
        "df_train['Age'] = df_train['Age'].fillna(df_train['Age'].median())\n",
        "\n",
        "df_train['is_child'] = df_train['Age'].map(lambda x: 1 if x < 12 else 0)\n",
        "cols_model = ['is_child', 'Pclass_1', 'Pclass_2', 'Sex_female']\n",
        "# En este bloque se hace la separaiación entre datos de prueba y datos de test.\n",
        "X_train, X_test, y_train, y_test = train_test_split(df_train[cols_model], df_train['Survived'], test_size=0.10, random_state=42, stratify=df_train['Survived'])\n",
        "\n",
        "X_train = np.array(X_train.values, requires_grad=False)\n",
        "Y_train = np.array(y_train.values * 2 - np.ones(len(y_train)), requires_grad=False)\n"
      ],
      "metadata": {
        "id": "dbpb7uEZNr_7"
      },
      "execution_count": null,
      "outputs": []
    },
    {
      "cell_type": "markdown",
      "source": [
        "Inicialización de los parámetros."
      ],
      "metadata": {
        "id": "ty2mu-1SPGAb"
      }
    },
    {
      "cell_type": "code",
      "source": [
        "np.random.seed(0)\n",
        "shape = qml.StronglyEntanglingLayers.shape(n_layers=num_layers, n_wires=num_qubits)\n",
        "weights_init = np.random.random(size=shape)\n",
        "bias_init = np.array(0.0, requires_grad=True)\n",
        "\n",
        "opt = GradientDescentOptimizer(0.3)\n",
        "num_it = 20\n",
        "batch_size = math.floor(len(X_train)/num_it)\n",
        "\n",
        "weights = weights_init\n",
        "bias = bias_init"
      ],
      "metadata": {
        "id": "olGze_fRPGgT"
      },
      "execution_count": null,
      "outputs": []
    },
    {
      "cell_type": "code",
      "source": [
        "print(\"Los pesos iniciales son: \", weights_init)\n",
        "print(\"Los bias iniciales son:\",bias_init)"
      ],
      "metadata": {
        "id": "V5LOnmp-VRlE",
        "colab": {
          "base_uri": "https://localhost:8080/"
        },
        "outputId": "d113f569-01a5-4273-abba-f6695298b3c9"
      },
      "execution_count": null,
      "outputs": [
        {
          "output_type": "stream",
          "name": "stdout",
          "text": [
            "Los pesos iniciales son:  [[[0.5488135  0.71518937 0.60276338]\n",
            "  [0.54488318 0.4236548  0.64589411]\n",
            "  [0.43758721 0.891773   0.96366276]\n",
            "  [0.38344152 0.79172504 0.52889492]]\n",
            "\n",
            " [[0.56804456 0.92559664 0.07103606]\n",
            "  [0.0871293  0.0202184  0.83261985]\n",
            "  [0.77815675 0.87001215 0.97861834]\n",
            "  [0.79915856 0.46147936 0.78052918]]]\n",
            "Los bias iniciales son: 0.0\n"
          ]
        }
      ]
    },
    {
      "cell_type": "markdown",
      "source": [
        "Entrenamiento del circuito"
      ],
      "metadata": {
        "id": "bSZZdyV5PV_D"
      }
    },
    {
      "cell_type": "code",
      "source": [
        "for it in range(num_it):\n",
        "\n",
        "    # Update the weights by one optimizer step\n",
        "    batch_index = np.random.randint(0, len(X_train), (batch_size,))\n",
        "    X_batch = X_train[batch_index]\n",
        "    Y_batch = Y_train[batch_index]\n",
        "    weights, bias, _, _ = opt.step(cost, weights, bias, X_batch, Y_batch)\n",
        "\n",
        "    # Compute accuracy\n",
        "    predictions = [np.sign(variational_classifier(weights, bias, x)) for x in X_train]\n",
        "    acc = accuracy(Y_train, predictions)\n",
        "\n",
        "    print(\n",
        "        \"Iter: {:5d} | Cost: {:0.7f} | Accuracy: {:0.7f} \".format(\n",
        "            it + 1, cost(weights, bias, X_train, Y_train), acc\n",
        "        )\n",
        "    )"
      ],
      "metadata": {
        "id": "6H8bBOk7PVcT",
        "colab": {
          "base_uri": "https://localhost:8080/"
        },
        "outputId": "197b3fae-0c1c-4278-b355-349882fc5286"
      },
      "execution_count": null,
      "outputs": [
        {
          "output_type": "stream",
          "name": "stdout",
          "text": [
            "Iter:     1 | Cost: 1.0178197 | Accuracy: 0.6167291 \n",
            "Iter:     2 | Cost: 0.9655172 | Accuracy: 0.6167291 \n",
            "Iter:     3 | Cost: 0.9707957 | Accuracy: 0.6167291 \n",
            "Iter:     4 | Cost: 0.9451315 | Accuracy: 0.6167291 \n",
            "Iter:     5 | Cost: 0.9355544 | Accuracy: 0.6167291 \n",
            "Iter:     6 | Cost: 0.9597053 | Accuracy: 0.6304619 \n",
            "Iter:     7 | Cost: 1.0365776 | Accuracy: 0.6304619 \n",
            "Iter:     8 | Cost: 1.0920459 | Accuracy: 0.3695381 \n",
            "Iter:     9 | Cost: 0.9550147 | Accuracy: 0.6304619 \n",
            "Iter:    10 | Cost: 0.9412038 | Accuracy: 0.6167291 \n",
            "Iter:    11 | Cost: 0.9416059 | Accuracy: 0.6304619 \n",
            "Iter:    12 | Cost: 1.0280253 | Accuracy: 0.6304619 \n",
            "Iter:    13 | Cost: 0.9898322 | Accuracy: 0.6304619 \n",
            "Iter:    14 | Cost: 0.9506577 | Accuracy: 0.6167291 \n",
            "Iter:    15 | Cost: 0.9673344 | Accuracy: 0.6304619 \n",
            "Iter:    16 | Cost: 0.9336502 | Accuracy: 0.6304619 \n",
            "Iter:    17 | Cost: 0.9890687 | Accuracy: 0.6304619 \n",
            "Iter:    18 | Cost: 0.9627048 | Accuracy: 0.6167291 \n",
            "Iter:    19 | Cost: 0.9934616 | Accuracy: 0.6304619 \n",
            "Iter:    20 | Cost: 0.9900569 | Accuracy: 0.6167291 \n"
          ]
        }
      ]
    },
    {
      "cell_type": "markdown",
      "source": [
        "organización de los datos de test."
      ],
      "metadata": {
        "id": "ccR7Fa_nPdv7"
      }
    },
    {
      "cell_type": "code",
      "source": [
        "X_test = np.array(X_test.values, requires_grad=False)\n",
        "Y_test = np.array(y_test.values * 2 - np.ones(len(y_test)), requires_grad=False)"
      ],
      "metadata": {
        "id": "m98T6yusPeJo"
      },
      "execution_count": null,
      "outputs": []
    },
    {
      "cell_type": "markdown",
      "source": [
        "Predición del circuito"
      ],
      "metadata": {
        "id": "USzjZTQnP0kU"
      }
    },
    {
      "cell_type": "code",
      "source": [
        "predictions = [np.sign(variational_classifier(weights, bias, x)) for x in X_test]\n"
      ],
      "metadata": {
        "id": "AgKfUUxKPz_U"
      },
      "execution_count": null,
      "outputs": []
    },
    {
      "cell_type": "markdown",
      "source": [
        "Pesos entrenados y bias."
      ],
      "metadata": {
        "id": "4y8eDBPNS91y"
      }
    },
    {
      "cell_type": "code",
      "source": [
        "print(\"Los pesos entrenados son: \",weights)\n",
        "print(\"Los pesos entrenados son\",bias)"
      ],
      "metadata": {
        "id": "bZCKW_eZTALA",
        "colab": {
          "base_uri": "https://localhost:8080/"
        },
        "outputId": "7a42bf9b-6abf-486a-dcc1-13a6c749656a"
      },
      "execution_count": null,
      "outputs": [
        {
          "output_type": "stream",
          "name": "stdout",
          "text": [
            "Los pesos entrenados son:  [[[0.5488135  0.91709821 0.4526575 ]\n",
            "  [0.54488318 0.4236548  0.64589411]\n",
            "  [0.43758721 0.891773   0.96366276]\n",
            "  [0.38344152 0.79172504 0.52889492]]\n",
            "\n",
            " [[0.41793869 1.20018895 0.07103606]\n",
            "  [0.0871293  0.0202184  0.83261985]\n",
            "  [0.77815675 0.87001215 0.97861834]\n",
            "  [0.79915856 0.46147936 0.78052918]]]\n",
            "Los pesos entrenados son -0.25896367305103657\n"
          ]
        }
      ]
    },
    {
      "cell_type": "markdown",
      "source": [
        "Métricas de presición del sistema."
      ],
      "metadata": {
        "id": "8MCkcKqSP9Jz"
      }
    },
    {
      "cell_type": "code",
      "source": [
        "accuracy_score(Y_test, predictions)\n",
        "precision_score(Y_test, predictions)\n",
        "recall_score(Y_test, predictions)\n",
        "f1_score(Y_test, predictions, average='macro')"
      ],
      "metadata": {
        "id": "pa_PZ6WpQJ9J",
        "colab": {
          "base_uri": "https://localhost:8080/"
        },
        "outputId": "f99281e5-d741-49da-f460-197df98fa309"
      },
      "execution_count": null,
      "outputs": [
        {
          "output_type": "stream",
          "name": "stderr",
          "text": [
            "/usr/local/lib/python3.11/dist-packages/sklearn/metrics/_classification.py:1565: UndefinedMetricWarning: Precision is ill-defined and being set to 0.0 due to no predicted samples. Use `zero_division` parameter to control this behavior.\n",
            "  _warn_prf(average, modifier, f\"{metric.capitalize()} is\", len(result))\n"
          ]
        },
        {
          "output_type": "execute_result",
          "data": {
            "text/plain": [
              "0.5057471264367815"
            ]
          },
          "metadata": {},
          "execution_count": 59
        }
      ]
    },
    {
      "cell_type": "markdown",
      "source": [
        "Al compar la eficiencia obtenida con el cricuito orginal, es evidente que no hubo una buena respuesta al entrenamiento por parte del presente circuito( el modificado), puesto que a diferencia de la primera parte donde el circuito orginal tuvo un 0.77, ahora, solo alcanzó un 0.51 aproximadamente. Esto muestra que en términos de predicción la primera implementación tiene una mayor fidelidad. No obstante, cabe resaltar que este se entrenó por menos épocas lo cual tiene una alta influencia en la respuesta y además, la arquitectura puede no ser idónea para este tipo de aplicaciones."
      ],
      "metadata": {
        "id": "hQe1n-XsaS6V"
      }
    }
  ]
}