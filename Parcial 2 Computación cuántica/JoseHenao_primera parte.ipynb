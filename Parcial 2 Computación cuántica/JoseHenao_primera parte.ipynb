{
  "nbformat": 4,
  "nbformat_minor": 0,
  "metadata": {
    "colab": {
      "provenance": [],
      "gpuType": "T4"
    },
    "kernelspec": {
      "name": "python3",
      "display_name": "Python 3"
    },
    "language_info": {
      "name": "python"
    },
    "accelerator": "GPU"
  },
  "cells": [
    {
      "cell_type": "code",
      "execution_count": 1,
      "metadata": {
        "colab": {
          "base_uri": "https://localhost:8080/"
        },
        "id": "-I52AnfWILWe",
        "outputId": "8eaca094-50d6-4b73-9f27-6e1ccb84ad2b"
      },
      "outputs": [
        {
          "output_type": "stream",
          "name": "stdout",
          "text": [
            "Collecting pennylane\n",
            "  Downloading PennyLane-0.41.1-py3-none-any.whl.metadata (10 kB)\n",
            "Requirement already satisfied: numpy in /usr/local/lib/python3.11/dist-packages (from pennylane) (2.0.2)\n",
            "Requirement already satisfied: scipy in /usr/local/lib/python3.11/dist-packages (from pennylane) (1.15.3)\n",
            "Requirement already satisfied: networkx in /usr/local/lib/python3.11/dist-packages (from pennylane) (3.5)\n",
            "Collecting rustworkx>=0.14.0 (from pennylane)\n",
            "  Downloading rustworkx-0.16.0-cp39-abi3-manylinux_2_17_x86_64.manylinux2014_x86_64.whl.metadata (10 kB)\n",
            "Requirement already satisfied: autograd in /usr/local/lib/python3.11/dist-packages (from pennylane) (1.8.0)\n",
            "Requirement already satisfied: tomlkit in /usr/local/lib/python3.11/dist-packages (from pennylane) (0.13.3)\n",
            "Collecting appdirs (from pennylane)\n",
            "  Downloading appdirs-1.4.4-py2.py3-none-any.whl.metadata (9.0 kB)\n",
            "Collecting autoray>=0.6.11 (from pennylane)\n",
            "  Downloading autoray-0.7.2-py3-none-any.whl.metadata (5.8 kB)\n",
            "Requirement already satisfied: cachetools in /usr/local/lib/python3.11/dist-packages (from pennylane) (5.5.2)\n",
            "Collecting pennylane-lightning>=0.41 (from pennylane)\n",
            "  Downloading pennylane_lightning-0.41.1-cp311-cp311-manylinux_2_28_x86_64.whl.metadata (12 kB)\n",
            "Requirement already satisfied: requests in /usr/local/lib/python3.11/dist-packages (from pennylane) (2.32.3)\n",
            "Requirement already satisfied: typing-extensions in /usr/local/lib/python3.11/dist-packages (from pennylane) (4.14.1)\n",
            "Requirement already satisfied: packaging in /usr/local/lib/python3.11/dist-packages (from pennylane) (24.2)\n",
            "Collecting diastatic-malt (from pennylane)\n",
            "  Downloading diastatic_malt-2.15.2-py3-none-any.whl.metadata (2.6 kB)\n",
            "Collecting scipy-openblas32>=0.3.26 (from pennylane-lightning>=0.41->pennylane)\n",
            "  Downloading scipy_openblas32-0.3.30.0.1-py3-none-manylinux2014_x86_64.manylinux_2_17_x86_64.whl.metadata (57 kB)\n",
            "\u001b[2K     \u001b[90m━━━━━━━━━━━━━━━━━━━━━━━━━━━━━━━━━━━━━━━━\u001b[0m \u001b[32m57.1/57.1 kB\u001b[0m \u001b[31m2.8 MB/s\u001b[0m eta \u001b[36m0:00:00\u001b[0m\n",
            "\u001b[?25hRequirement already satisfied: astunparse in /usr/local/lib/python3.11/dist-packages (from diastatic-malt->pennylane) (1.6.3)\n",
            "Requirement already satisfied: gast in /usr/local/lib/python3.11/dist-packages (from diastatic-malt->pennylane) (0.6.0)\n",
            "Requirement already satisfied: termcolor in /usr/local/lib/python3.11/dist-packages (from diastatic-malt->pennylane) (3.1.0)\n",
            "Requirement already satisfied: charset-normalizer<4,>=2 in /usr/local/lib/python3.11/dist-packages (from requests->pennylane) (3.4.2)\n",
            "Requirement already satisfied: idna<4,>=2.5 in /usr/local/lib/python3.11/dist-packages (from requests->pennylane) (3.10)\n",
            "Requirement already satisfied: urllib3<3,>=1.21.1 in /usr/local/lib/python3.11/dist-packages (from requests->pennylane) (2.4.0)\n",
            "Requirement already satisfied: certifi>=2017.4.17 in /usr/local/lib/python3.11/dist-packages (from requests->pennylane) (2025.7.9)\n",
            "Requirement already satisfied: wheel<1.0,>=0.23.0 in /usr/local/lib/python3.11/dist-packages (from astunparse->diastatic-malt->pennylane) (0.45.1)\n",
            "Requirement already satisfied: six<2.0,>=1.6.1 in /usr/local/lib/python3.11/dist-packages (from astunparse->diastatic-malt->pennylane) (1.17.0)\n",
            "Downloading PennyLane-0.41.1-py3-none-any.whl (2.3 MB)\n",
            "\u001b[2K   \u001b[90m━━━━━━━━━━━━━━━━━━━━━━━━━━━━━━━━━━━━━━━━\u001b[0m \u001b[32m2.3/2.3 MB\u001b[0m \u001b[31m21.0 MB/s\u001b[0m eta \u001b[36m0:00:00\u001b[0m\n",
            "\u001b[?25hDownloading autoray-0.7.2-py3-none-any.whl (930 kB)\n",
            "\u001b[2K   \u001b[90m━━━━━━━━━━━━━━━━━━━━━━━━━━━━━━━━━━━━━━━━\u001b[0m \u001b[32m930.8/930.8 kB\u001b[0m \u001b[31m12.1 MB/s\u001b[0m eta \u001b[36m0:00:00\u001b[0m\n",
            "\u001b[?25hDownloading pennylane_lightning-0.41.1-cp311-cp311-manylinux_2_28_x86_64.whl (2.5 MB)\n",
            "\u001b[2K   \u001b[90m━━━━━━━━━━━━━━━━━━━━━━━━━━━━━━━━━━━━━━━━\u001b[0m \u001b[32m2.5/2.5 MB\u001b[0m \u001b[31m28.9 MB/s\u001b[0m eta \u001b[36m0:00:00\u001b[0m\n",
            "\u001b[?25hDownloading rustworkx-0.16.0-cp39-abi3-manylinux_2_17_x86_64.manylinux2014_x86_64.whl (2.1 MB)\n",
            "\u001b[2K   \u001b[90m━━━━━━━━━━━━━━━━━━━━━━━━━━━━━━━━━━━━━━━━\u001b[0m \u001b[32m2.1/2.1 MB\u001b[0m \u001b[31m18.2 MB/s\u001b[0m eta \u001b[36m0:00:00\u001b[0m\n",
            "\u001b[?25hDownloading appdirs-1.4.4-py2.py3-none-any.whl (9.6 kB)\n",
            "Downloading diastatic_malt-2.15.2-py3-none-any.whl (167 kB)\n",
            "\u001b[2K   \u001b[90m━━━━━━━━━━━━━━━━━━━━━━━━━━━━━━━━━━━━━━━━\u001b[0m \u001b[32m167.9/167.9 kB\u001b[0m \u001b[31m13.9 MB/s\u001b[0m eta \u001b[36m0:00:00\u001b[0m\n",
            "\u001b[?25hDownloading scipy_openblas32-0.3.30.0.1-py3-none-manylinux2014_x86_64.manylinux_2_17_x86_64.whl (8.6 MB)\n",
            "\u001b[2K   \u001b[90m━━━━━━━━━━━━━━━━━━━━━━━━━━━━━━━━━━━━━━━━\u001b[0m \u001b[32m8.6/8.6 MB\u001b[0m \u001b[31m43.9 MB/s\u001b[0m eta \u001b[36m0:00:00\u001b[0m\n",
            "\u001b[?25hInstalling collected packages: appdirs, scipy-openblas32, rustworkx, autoray, diastatic-malt, pennylane-lightning, pennylane\n",
            "Successfully installed appdirs-1.4.4 autoray-0.7.2 diastatic-malt-2.15.2 pennylane-0.41.1 pennylane-lightning-0.41.1 rustworkx-0.16.0 scipy-openblas32-0.3.30.0.1\n"
          ]
        }
      ],
      "source": [
        "!pip install pennylane"
      ]
    },
    {
      "cell_type": "code",
      "source": [
        "import pennylane as qml\n",
        "from pennylane import numpy as np\n",
        "from pennylane.optimize import AdamOptimizer\n",
        "\n",
        "from sklearn.model_selection import train_test_split\n",
        "import pandas as pd\n",
        "\n",
        "from sklearn.metrics import accuracy_score\n",
        "from sklearn.metrics import f1_score\n",
        "from sklearn.metrics import precision_score\n",
        "from sklearn.metrics import recall_score\n",
        "\n",
        "import math\n"
      ],
      "metadata": {
        "id": "DEWFDl2lI19i",
        "outputId": "b2259e67-b173-416d-d360-2b34db067b92",
        "colab": {
          "base_uri": "https://localhost:8080/"
        }
      },
      "execution_count": 2,
      "outputs": [
        {
          "output_type": "stream",
          "name": "stderr",
          "text": [
            "/usr/local/lib/python3.11/dist-packages/pennylane/capture/capture_operators.py:33: RuntimeWarning: PennyLane is not yet compatible with JAX versions > 0.4.28. You have version 0.5.2 installed. Please downgrade JAX to <=0.4.28 to avoid runtime errors.\n",
            "  warnings.warn(\n"
          ]
        }
      ]
    },
    {
      "cell_type": "markdown",
      "source": [
        "Feature Map."
      ],
      "metadata": {
        "id": "0R7Skd9tIpWh"
      }
    },
    {
      "cell_type": "code",
      "source": [
        "num_qubits = 4\n",
        "num_layers = 2\n",
        "\n",
        "dev = qml.device(\"default.qubit\", wires=num_qubits)\n",
        "# quantum circuit functions\n",
        "def statepreparation(x):\n",
        "    qml.BasisEmbedding(x, wires=range(0, num_qubits))"
      ],
      "metadata": {
        "id": "cWgJb57-Iinb"
      },
      "execution_count": 3,
      "outputs": []
    },
    {
      "cell_type": "markdown",
      "source": [
        "Ansatz"
      ],
      "metadata": {
        "id": "Kvw2JStZJ6gq"
      }
    },
    {
      "cell_type": "code",
      "source": [
        "def layer(W):\n",
        "\n",
        "    qml.Rot(W[0, 0], W[0, 1], W[0, 2], wires=0)\n",
        "    qml.Rot(W[1, 0], W[1, 1], W[1, 2], wires=1)\n",
        "    qml.Rot(W[2, 0], W[2, 1], W[2, 2], wires=2)\n",
        "    qml.Rot(W[3, 0], W[3, 1], W[3, 2], wires=3)\n",
        "\n",
        "    qml.CNOT(wires=[0, 1])\n",
        "    qml.CNOT(wires=[1, 2])\n",
        "    qml.CNOT(wires=[2, 3])\n",
        "    qml.CNOT(wires=[3, 0])\n"
      ],
      "metadata": {
        "id": "UOeXlb57RAZh"
      },
      "execution_count": 4,
      "outputs": []
    },
    {
      "cell_type": "code",
      "source": [
        "@qml.qnode(dev, interface=\"autograd\")\n",
        "def circuit(weights, x):\n",
        "\n",
        "    statepreparation(x)\n",
        "\n",
        "    for W in weights:\n",
        "        layer(W)\n",
        "\n",
        "    return qml.expval(qml.PauliZ(0))"
      ],
      "metadata": {
        "id": "bnNs_oxgJvBl"
      },
      "execution_count": 5,
      "outputs": []
    },
    {
      "cell_type": "markdown",
      "source": [
        "Salida del circuito cuántico sumado al sesgo."
      ],
      "metadata": {
        "id": "yKjSczf4KRFp"
      }
    },
    {
      "cell_type": "code",
      "source": [
        "def variational_classifier(weights, bias, x):\n",
        "    return circuit(weights, x) + bias"
      ],
      "metadata": {
        "id": "Qv8dTlzcKxwS"
      },
      "execution_count": 6,
      "outputs": []
    },
    {
      "cell_type": "markdown",
      "source": [
        "Definición de la función de pérdida."
      ],
      "metadata": {
        "id": "lXEmnzc9KzQp"
      }
    },
    {
      "cell_type": "code",
      "source": [
        "\n",
        "def square_loss(labels, predictions):\n",
        "    loss = 0\n",
        "    for l, p in zip(labels, predictions):\n",
        "        loss = loss + (l - p) ** 2\n",
        "\n",
        "    loss = loss / len(labels)\n",
        "    return loss"
      ],
      "metadata": {
        "id": "ClxjWnYyK3Fk"
      },
      "execution_count": 7,
      "outputs": []
    },
    {
      "cell_type": "markdown",
      "source": [
        "Definición de la función de evaluación de desempeño."
      ],
      "metadata": {
        "id": "aGvE5hPoLMeT"
      }
    },
    {
      "cell_type": "code",
      "source": [
        "def accuracy(labels, predictions):\n",
        "\n",
        "    loss = 0\n",
        "    for l, p in zip(labels, predictions):\n",
        "        if abs(l - p) < 1e-5:\n",
        "            loss = loss + 1\n",
        "    loss = loss / len(labels)\n",
        "\n",
        "    return loss"
      ],
      "metadata": {
        "id": "WJjUQMbeLQ3D"
      },
      "execution_count": 8,
      "outputs": []
    },
    {
      "cell_type": "markdown",
      "source": [
        "Definición de la función de evaluación de accuracy."
      ],
      "metadata": {
        "id": "s9kPgyS4LVOo"
      }
    },
    {
      "cell_type": "code",
      "source": [
        "def accuracy(labels, predictions):\n",
        "\n",
        "    loss = 0\n",
        "    for l, p in zip(labels, predictions):\n",
        "        if abs(l - p) < 1e-5:\n",
        "            loss = loss + 1\n",
        "    loss = loss / len(labels)\n",
        "\n",
        "    return loss"
      ],
      "metadata": {
        "id": "DWyHtkzRLUti"
      },
      "execution_count": 9,
      "outputs": []
    },
    {
      "cell_type": "markdown",
      "source": [
        "Definición de la función de costo."
      ],
      "metadata": {
        "id": "pkHxUkYHLjCz"
      }
    },
    {
      "cell_type": "code",
      "source": [
        "def cost(weights, bias, X, Y):\n",
        "    predictions = [variational_classifier(weights, bias, x) for x in X]\n",
        "    return square_loss(Y, predictions)"
      ],
      "metadata": {
        "id": "M1LloZMtLl5C"
      },
      "execution_count": 10,
      "outputs": []
    },
    {
      "cell_type": "code",
      "source": [
        "import zipfile\n",
        "\n",
        "with zipfile.ZipFile('titanic.zip', 'r') as zip_ref:\n",
        "    zip_ref.extractall('titanic_data')\n",
        "\n",
        "# Verifica los archivos extraídos\n",
        "import os\n",
        "\n",
        "print(\"Archivos extraídos:\")\n",
        "print(os.listdir('titanic_data'))\n"
      ],
      "metadata": {
        "id": "OUHv4g9bMLfS",
        "colab": {
          "base_uri": "https://localhost:8080/"
        },
        "outputId": "c88def22-3484-4437-eea6-04c4b4f0ffda"
      },
      "execution_count": 14,
      "outputs": [
        {
          "output_type": "stream",
          "name": "stdout",
          "text": [
            "Archivos extraídos:\n",
            "['train.csv', 'gender_submission.csv', 'test.csv']\n"
          ]
        }
      ]
    },
    {
      "cell_type": "markdown",
      "source": [
        "Preprocesamiento de los datos."
      ],
      "metadata": {
        "id": "O81wX3d1N8gM"
      }
    },
    {
      "cell_type": "code",
      "source": [
        "# preparaing data\n",
        "df_train = pd.read_csv('/content/titanic_data/train.csv')\n",
        "\n",
        "df_train['Pclass'] = df_train['Pclass'].astype(str)\n",
        "\n",
        "df_train = pd.concat([df_train, pd.get_dummies(df_train[['Pclass', 'Sex', 'Embarked']])], axis=1)\n",
        "\n",
        "# I will fill missings with the median\n",
        "df_train['Age'] = df_train['Age'].fillna(df_train['Age'].median())\n",
        "\n",
        "df_train['is_child'] = df_train['Age'].map(lambda x: 1 if x < 12 else 0)\n",
        "cols_model = ['is_child', 'Pclass_1', 'Pclass_2', 'Sex_female']\n",
        "# En este bloque se hace la separaación entre datos de prueba y datos de test del dataset.\n",
        "X_train, X_test, y_train, y_test = train_test_split(df_train[cols_model], df_train['Survived'], test_size=0.10, random_state=42, stratify=df_train['Survived'])\n",
        "\n",
        "X_train = np.array(X_train.values, requires_grad=False)\n",
        "Y_train = np.array(y_train.values * 2 - np.ones(len(y_train)), requires_grad=False)\n"
      ],
      "metadata": {
        "id": "dbpb7uEZNr_7"
      },
      "execution_count": 15,
      "outputs": []
    },
    {
      "cell_type": "markdown",
      "source": [
        "Inicialización de los parámetros."
      ],
      "metadata": {
        "id": "ty2mu-1SPGAb"
      }
    },
    {
      "cell_type": "code",
      "source": [
        "np.random.seed(0)\n",
        "weights_init = 0.01 * np.random.randn(num_layers, num_qubits, 3, requires_grad=True)\n",
        "bias_init = np.array(0.0, requires_grad=True)\n",
        "\n",
        "opt = AdamOptimizer(0.125)\n",
        "num_it = 70\n",
        "batch_size = math.floor(len(X_train)/num_it)\n",
        "\n",
        "weights = weights_init\n",
        "bias = bias_init"
      ],
      "metadata": {
        "id": "olGze_fRPGgT"
      },
      "execution_count": 16,
      "outputs": []
    },
    {
      "cell_type": "code",
      "source": [
        "print(\"Los pesos iniciales son: \", weights_init)\n",
        "print(\"Los bias iniciales son:\",bias_init)"
      ],
      "metadata": {
        "id": "V5LOnmp-VRlE",
        "colab": {
          "base_uri": "https://localhost:8080/"
        },
        "outputId": "52bb1835-42df-4253-bb19-b0020ad88968"
      },
      "execution_count": 17,
      "outputs": [
        {
          "output_type": "stream",
          "name": "stdout",
          "text": [
            "Los pesos iniciales son:  [[[ 0.01764052  0.00400157  0.00978738]\n",
            "  [ 0.02240893  0.01867558 -0.00977278]\n",
            "  [ 0.00950088 -0.00151357 -0.00103219]\n",
            "  [ 0.00410599  0.00144044  0.01454274]]\n",
            "\n",
            " [[ 0.00761038  0.00121675  0.00443863]\n",
            "  [ 0.00333674  0.01494079 -0.00205158]\n",
            "  [ 0.00313068 -0.00854096 -0.0255299 ]\n",
            "  [ 0.00653619  0.00864436 -0.00742165]]]\n",
            "Los bias iniciales son: 0.0\n"
          ]
        }
      ]
    },
    {
      "cell_type": "markdown",
      "source": [
        "Entrenamiento del circuito"
      ],
      "metadata": {
        "id": "bSZZdyV5PV_D"
      }
    },
    {
      "cell_type": "code",
      "source": [
        "for it in range(num_it):\n",
        "\n",
        "    # Se cargan los datos y se aplica la función de optmización, con esta, es que se busca el parámetro que entregue el menor valor posible de la función de costo.\n",
        "    batch_index = np.random.randint(0, len(X_train), (batch_size,))\n",
        "    X_batch = X_train[batch_index]\n",
        "    Y_batch = Y_train[batch_index]\n",
        "    weights, bias, _, _ = opt.step(cost, weights, bias, X_batch, Y_batch)\n",
        "\n",
        "    # CCon el sentido de medir un redimiento, se hacen predicciones para posteriormente evaluar el rendimiento con la función de accuracy.\n",
        "    predictions = [np.sign(variational_classifier(weights, bias, x)) for x in X_train]\n",
        "    acc = accuracy(Y_train, predictions)\n",
        "\n",
        "    print(\n",
        "        \"Iter: {:5d} | Cost: {:0.7f} | Accuracy: {:0.7f} \".format(\n",
        "            it + 1, cost(weights, bias, X_train, Y_train), acc\n",
        "        )\n",
        "    )"
      ],
      "metadata": {
        "id": "6H8bBOk7PVcT",
        "colab": {
          "base_uri": "https://localhost:8080/"
        },
        "outputId": "a158d9f5-33ea-418c-c142-7f143d13e901"
      },
      "execution_count": 20,
      "outputs": [
        {
          "output_type": "stream",
          "name": "stdout",
          "text": [
            "Iter:     1 | Cost: 2.3119722 | Accuracy: 0.3657928 \n",
            "Iter:     2 | Cost: 2.0304556 | Accuracy: 0.3657928 \n",
            "Iter:     3 | Cost: 1.7212568 | Accuracy: 0.3657928 \n",
            "Iter:     4 | Cost: 1.4504211 | Accuracy: 0.3657928 \n",
            "Iter:     5 | Cost: 1.2860336 | Accuracy: 0.5205993 \n",
            "Iter:     6 | Cost: 1.2213677 | Accuracy: 0.6167291 \n",
            "Iter:     7 | Cost: 1.1999638 | Accuracy: 0.6167291 \n",
            "Iter:     8 | Cost: 1.1690077 | Accuracy: 0.6167291 \n",
            "Iter:     9 | Cost: 1.1090363 | Accuracy: 0.6167291 \n",
            "Iter:    10 | Cost: 1.0756152 | Accuracy: 0.6167291 \n",
            "Iter:    11 | Cost: 1.0608010 | Accuracy: 0.6167291 \n",
            "Iter:    12 | Cost: 1.0480405 | Accuracy: 0.6167291 \n",
            "Iter:    13 | Cost: 1.0472376 | Accuracy: 0.6167291 \n",
            "Iter:    14 | Cost: 1.0147893 | Accuracy: 0.6167291 \n",
            "Iter:    15 | Cost: 0.9866451 | Accuracy: 0.6167291 \n",
            "Iter:    16 | Cost: 0.9537489 | Accuracy: 0.6167291 \n",
            "Iter:    17 | Cost: 0.9276301 | Accuracy: 0.6167291 \n",
            "Iter:    18 | Cost: 0.9137055 | Accuracy: 0.6167291 \n",
            "Iter:    19 | Cost: 0.9081582 | Accuracy: 0.6167291 \n",
            "Iter:    20 | Cost: 0.9060471 | Accuracy: 0.6167291 \n",
            "Iter:    21 | Cost: 0.8995796 | Accuracy: 0.6167291 \n",
            "Iter:    22 | Cost: 0.8910505 | Accuracy: 0.6167291 \n",
            "Iter:    23 | Cost: 0.8704542 | Accuracy: 0.6167291 \n",
            "Iter:    24 | Cost: 0.8377993 | Accuracy: 0.6167291 \n",
            "Iter:    25 | Cost: 0.8104591 | Accuracy: 0.7203496 \n",
            "Iter:    26 | Cost: 0.7851437 | Accuracy: 0.7802747 \n",
            "Iter:    27 | Cost: 0.7690076 | Accuracy: 0.7802747 \n",
            "Iter:    28 | Cost: 0.7517597 | Accuracy: 0.7802747 \n",
            "Iter:    29 | Cost: 0.7357352 | Accuracy: 0.7802747 \n",
            "Iter:    30 | Cost: 0.7329998 | Accuracy: 0.7727840 \n",
            "Iter:    31 | Cost: 0.7194944 | Accuracy: 0.7840200 \n",
            "Iter:    32 | Cost: 0.7088395 | Accuracy: 0.7840200 \n",
            "Iter:    33 | Cost: 0.7024862 | Accuracy: 0.7840200 \n",
            "Iter:    34 | Cost: 0.6970933 | Accuracy: 0.7840200 \n",
            "Iter:    35 | Cost: 0.6910647 | Accuracy: 0.7840200 \n",
            "Iter:    36 | Cost: 0.6871030 | Accuracy: 0.7840200 \n",
            "Iter:    37 | Cost: 0.6898955 | Accuracy: 0.7840200 \n",
            "Iter:    38 | Cost: 0.6918424 | Accuracy: 0.7840200 \n",
            "Iter:    39 | Cost: 0.6898076 | Accuracy: 0.7840200 \n",
            "Iter:    40 | Cost: 0.6916279 | Accuracy: 0.7840200 \n",
            "Iter:    41 | Cost: 0.6942996 | Accuracy: 0.7840200 \n",
            "Iter:    42 | Cost: 0.6919103 | Accuracy: 0.7840200 \n",
            "Iter:    43 | Cost: 0.6890577 | Accuracy: 0.7840200 \n",
            "Iter:    44 | Cost: 0.6915479 | Accuracy: 0.7840200 \n",
            "Iter:    45 | Cost: 0.6882942 | Accuracy: 0.7840200 \n",
            "Iter:    46 | Cost: 0.6787791 | Accuracy: 0.7840200 \n",
            "Iter:    47 | Cost: 0.6738498 | Accuracy: 0.7840200 \n",
            "Iter:    48 | Cost: 0.6672733 | Accuracy: 0.7840200 \n",
            "Iter:    49 | Cost: 0.6671840 | Accuracy: 0.7840200 \n",
            "Iter:    50 | Cost: 0.6711838 | Accuracy: 0.7840200 \n",
            "Iter:    51 | Cost: 0.6747726 | Accuracy: 0.7840200 \n",
            "Iter:    52 | Cost: 0.6770988 | Accuracy: 0.7840200 \n",
            "Iter:    53 | Cost: 0.6786296 | Accuracy: 0.7840200 \n",
            "Iter:    54 | Cost: 0.6812320 | Accuracy: 0.7840200 \n",
            "Iter:    55 | Cost: 0.6852786 | Accuracy: 0.7840200 \n",
            "Iter:    56 | Cost: 0.6864378 | Accuracy: 0.7840200 \n",
            "Iter:    57 | Cost: 0.6862881 | Accuracy: 0.7840200 \n",
            "Iter:    58 | Cost: 0.6891627 | Accuracy: 0.7840200 \n",
            "Iter:    59 | Cost: 0.6894979 | Accuracy: 0.7840200 \n",
            "Iter:    60 | Cost: 0.6852883 | Accuracy: 0.7840200 \n",
            "Iter:    61 | Cost: 0.6801977 | Accuracy: 0.7840200 \n",
            "Iter:    62 | Cost: 0.6707443 | Accuracy: 0.7840200 \n",
            "Iter:    63 | Cost: 0.6611838 | Accuracy: 0.7840200 \n",
            "Iter:    64 | Cost: 0.6565525 | Accuracy: 0.7840200 \n",
            "Iter:    65 | Cost: 0.6598641 | Accuracy: 0.7840200 \n",
            "Iter:    66 | Cost: 0.6599577 | Accuracy: 0.7840200 \n",
            "Iter:    67 | Cost: 0.6592809 | Accuracy: 0.7840200 \n",
            "Iter:    68 | Cost: 0.6617078 | Accuracy: 0.7840200 \n",
            "Iter:    69 | Cost: 0.6621803 | Accuracy: 0.7840200 \n",
            "Iter:    70 | Cost: 0.6677746 | Accuracy: 0.7840200 \n"
          ]
        }
      ]
    },
    {
      "cell_type": "markdown",
      "source": [
        "organización de los datos de test."
      ],
      "metadata": {
        "id": "ccR7Fa_nPdv7"
      }
    },
    {
      "cell_type": "code",
      "source": [
        "X_test = np.array(X_test.values, requires_grad=False)\n",
        "Y_test = np.array(y_test.values * 2 - np.ones(len(y_test)), requires_grad=False)"
      ],
      "metadata": {
        "id": "m98T6yusPeJo"
      },
      "execution_count": 21,
      "outputs": []
    },
    {
      "cell_type": "markdown",
      "source": [
        "Predición del circuito"
      ],
      "metadata": {
        "id": "USzjZTQnP0kU"
      }
    },
    {
      "cell_type": "code",
      "source": [
        "predictions = [np.sign(variational_classifier(weights, bias, x)) for x in X_test]\n"
      ],
      "metadata": {
        "id": "AgKfUUxKPz_U"
      },
      "execution_count": 22,
      "outputs": []
    },
    {
      "cell_type": "markdown",
      "source": [
        "Pesos entrenados y bias."
      ],
      "metadata": {
        "id": "4y8eDBPNS91y"
      }
    },
    {
      "cell_type": "code",
      "source": [
        "print(\"Los pesos entrenados son: \",weights)\n",
        "print(\"Los pesos entrenados son\",bias)"
      ],
      "metadata": {
        "id": "bZCKW_eZTALA",
        "colab": {
          "base_uri": "https://localhost:8080/"
        },
        "outputId": "c91718d5-b026-4197-883d-1589fc817b26"
      },
      "execution_count": 23,
      "outputs": [
        {
          "output_type": "stream",
          "name": "stdout",
          "text": [
            "Los pesos entrenados son:  [[[ 1.76405271e-02  1.02684800e+00 -3.66468004e-01]\n",
            "  [ 2.24089343e-02  1.21367695e+00 -1.20272645e+00]\n",
            "  [ 9.50088884e-03  2.18794057e-01  9.98257920e-01]\n",
            "  [ 4.10598858e-03  4.07629221e-01 -8.92005111e-01]]\n",
            "\n",
            " [[ 7.61038089e-03  1.21675069e-03  4.43863596e-03]\n",
            "  [-2.19312870e-01  1.75685419e+00 -2.05157979e-03]\n",
            "  [ 1.28423496e+00 -2.07897847e+00 -2.55298958e-02]\n",
            "  [ 1.56354438e+00  1.02956545e+00 -7.42164786e-03]]]\n",
            "Los pesos entrenados son -0.2124249341568173\n"
          ]
        }
      ]
    },
    {
      "cell_type": "markdown",
      "source": [
        "Métricas de presición del sistema."
      ],
      "metadata": {
        "id": "8MCkcKqSP9Jz"
      }
    },
    {
      "cell_type": "code",
      "source": [
        "accuracy_score(Y_test, predictions)\n",
        "precision_score(Y_test, predictions)\n",
        "recall_score(Y_test, predictions)\n",
        "f1_score(Y_test, predictions, average='macro')"
      ],
      "metadata": {
        "id": "pa_PZ6WpQJ9J",
        "colab": {
          "base_uri": "https://localhost:8080/"
        },
        "outputId": "0984e37e-9cc6-4e6c-b257-2a0700cb5d8d"
      },
      "execution_count": 24,
      "outputs": [
        {
          "output_type": "execute_result",
          "data": {
            "text/plain": [
              "0.7712374581939799"
            ]
          },
          "metadata": {},
          "execution_count": 24
        }
      ]
    },
    {
      "cell_type": "markdown",
      "source": [
        "Se puede ver, que el sistema tiene un rendimiento que aunque no es el mejor, para ciertos casos donde el error es relativamente aceptable puede ser aplicado, puesto que, este tiene una métrica relativamente buena, de un 0.77"
      ],
      "metadata": {
        "id": "wlj5Z9a8kRqS"
      }
    }
  ]
}